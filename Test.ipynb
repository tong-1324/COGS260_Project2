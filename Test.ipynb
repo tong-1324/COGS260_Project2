{
 "cells": [
  {
   "cell_type": "code",
   "execution_count": 5,
   "metadata": {
    "collapsed": false
   },
   "outputs": [],
   "source": [
    "import struct\n",
    "from math import log, exp\n",
    "from array import array\n",
    "import numpy as np\n",
    "import random\n",
    "\n",
    "def read(fname_img, fname_lbl, n):\n",
    "    f = open(fname_lbl, 'rb')\n",
    "    magic_nr, size = struct.unpack(\">II\", f.read(8))\n",
    "    lbl = array(\"b\", f.read())\n",
    "    f.close()\n",
    "\n",
    "    f = open(fname_img, 'rb')\n",
    "    magic_nr, size, rows, cols = struct.unpack(\">IIII\", f.read(16))\n",
    "    img = array(\"B\", f.read())\n",
    "    f.close()\n",
    "\n",
    "    tmp = [1]\n",
    "    img_matrix = []\n",
    "    for x in img.tolist():\n",
    "        tmp.append(x)\n",
    "        if len(tmp) == 785:\n",
    "            img_matrix.append(tmp)\n",
    "            tmp = [1]\n",
    "            if (len(img_matrix) == n):\n",
    "                break\n",
    "\n",
    "    return lbl.tolist()[:n], img_matrix\n",
    "\n",
    "\n",
    "train_size = 60000\n",
    "\n",
    "train_lbl, train_img = read(\"train-images-idx3-ubyte\", \"train-labels-idx1-ubyte\", 60000)\n",
    "test_lbl, test_img = read(\"t10k-images-idx3-ubyte\", \"t10k-labels-idx1-ubyte\", 20000)\n",
    "\n",
    "index_shuf = range(train_size)\n",
    "random.shuffle(index_shuf)\n",
    "x = []\n",
    "y = []\n",
    "for i in range(train_size):\n",
    "    x.append(train_img[i])\n",
    "    y.append(train_lbl[i])\n",
    "train_lbl, train_img = y, x"
   ]
  },
  {
   "cell_type": "code",
   "execution_count": 7,
   "metadata": {
    "collapsed": false
   },
   "outputs": [
    {
     "name": "stdout",
     "output_type": "stream",
     "text": [
      "[[ 830    0   18   15    2   68   20    2   33    8]\n",
      " [   1 1073  191   33    7   23   23   50   72    9]\n",
      " [  23    2  590   58    1   15   14   33   41   17]\n",
      " [   7    1    7  780    5  214    0   15   53   57]\n",
      " [   7    1   99   14  799  114  122   14   78  313]\n",
      " [  58    1    5   13    0  263   26    8   18    7]\n",
      " [  25    1   17   11   43   45  716    0   41    4]\n",
      " [  27    1   21   13   16   33   16  814   14  173]\n",
      " [   1   50   78   30   16   80    5   26  481   19]\n",
      " [   1    5    6   43   93   37   16   66  143  402]]\n",
      "LinearSVC(C=1.0, class_weight=None, dual=True, fit_intercept=True,\n",
      "     intercept_scaling=1, loss='squared_hinge', max_iter=1000,\n",
      "     multi_class='ovr', penalty='l2', random_state=None, tol=0.0001,\n",
      "     verbose=0)\n"
     ]
    }
   ],
   "source": [
    "from sklearn import svm\n",
    "from sklearn.multiclass import OneVsRestClassifier\n",
    "from sklearn.metrics import confusion_matrix\n",
    "\n",
    "clf = svm.LinearSVC()\n",
    "tmp = OneVsRestClassifier(clf)\n",
    "tmp.fit(train_img, train_lbl)\n",
    "result = tmp.predict(test_img)\n",
    "print confusion_matrix(result, test_lbl)\n",
    "print clf"
   ]
  },
  {
   "cell_type": "code",
   "execution_count": 8,
   "metadata": {
    "collapsed": true
   },
   "outputs": [],
   "source": [
    "ite = []\n",
    "train_loss = []\n",
    "test_loss = []\n",
    "for l in open(\"result.txt\"):\n",
    "    i, train, test = l.split(' ')\n",
    "    ite.append(int(i))\n",
    "    train_loss.append(float(train))\n",
    "    test_loss.append(float(test))"
   ]
  },
  {
   "cell_type": "code",
   "execution_count": 12,
   "metadata": {
    "collapsed": true
   },
   "outputs": [],
   "source": [
    "import matplotlib.pyplot as plt\n",
    "plt.plot(ite[5:], train_loss[5:], 'ro')\n",
    "plt.show()"
   ]
  },
  {
   "cell_type": "code",
   "execution_count": null,
   "metadata": {
    "collapsed": true
   },
   "outputs": [],
   "source": [
    ""
   ]
  }
 ],
 "metadata": {
  "kernelspec": {
   "display_name": "Python 2",
   "language": "python",
   "name": "python2"
  },
  "language_info": {
   "codemirror_mode": {
    "name": "ipython",
    "version": 2.0
   },
   "file_extension": ".py",
   "mimetype": "text/x-python",
   "name": "python",
   "nbconvert_exporter": "python",
   "pygments_lexer": "ipython2",
   "version": "2.7.6"
  }
 },
 "nbformat": 4,
 "nbformat_minor": 0
}