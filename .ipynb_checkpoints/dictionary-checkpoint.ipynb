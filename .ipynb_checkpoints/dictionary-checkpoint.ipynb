{
 "cells": [
  {
   "cell_type": "code",
   "execution_count": 1,
   "metadata": {
    "collapsed": true
   },
   "outputs": [],
   "source": [
    "from array import array\n",
    "import numpy as np\n",
    "import random\n",
    "import struct\n",
    "from sklearn.metrics import confusion_matrix\n",
    "import os\n",
    "import cv2\n",
    "from sklearn.cluster import KMeans\n",
    "from sklearn import svm\n",
    "from sklearn.ensemble import RandomForestClassifier\n",
    "import matplotlib.pyplot as plt\n",
    "import pickle"
   ]
  },
  {
   "cell_type": "code",
   "execution_count": 2,
   "metadata": {
    "collapsed": false
   },
   "outputs": [],
   "source": [
    "def read(fname_img, fname_lbl):\n",
    "    f = open(fname_lbl, 'rb')\n",
    "    magic_nr, size = struct.unpack(\">II\", f.read(8))\n",
    "    lbl = array(\"b\", f.read())\n",
    "    f.close()\n",
    "\n",
    "    f = open(fname_img, 'rb')\n",
    "    magic_nr, size, rows, cols = struct.unpack(\">IIII\", f.read(16))\n",
    "    img = array(\"B\", f.read())\n",
    "    f.close()\n",
    "\n",
    "    tmp = []\n",
    "    cur_img = []\n",
    "    img_matrix = []\n",
    "    for x in img.tolist():\n",
    "        tmp.append(x)\n",
    "        if len(tmp) == 28:\n",
    "            cur_img.append(tmp)\n",
    "            tmp = []\n",
    "        if len(cur_img) == 28:\n",
    "            img_matrix.append(cur_img)\n",
    "            cur_img = []\n",
    "\n",
    "    return lbl.tolist(), img_matrix"
   ]
  },
  {
   "cell_type": "code",
   "execution_count": 3,
   "metadata": {
    "collapsed": true
   },
   "outputs": [],
   "source": [
    "train_size = 60000\n",
    "\n",
    "train_lbl, train_img = read(\"train-images-idx3-ubyte\", \"train-labels-idx1-ubyte\")\n",
    "test_lbl, test_img = read(\"t10k-images-idx3-ubyte\", \"t10k-labels-idx1-ubyte\")\n",
    "\n",
    "index_shuf = range(train_size)\n",
    "random.shuffle(index_shuf)\n",
    "x = []\n",
    "y = []\n",
    "for i in range(train_size):\n",
    "    x.append(train_img[index_shuf[i]])\n",
    "    y.append(train_lbl[index_shuf[i]])\n",
    "train_lbl, train_img = y, x\n",
    "\n",
    "train_img = np.uint8(np.array(train_img))\n",
    "test_img = np.uint8(np.array(test_img))"
   ]
  },
  {
   "cell_type": "code",
   "execution_count": 4,
   "metadata": {
    "collapsed": true
   },
   "outputs": [],
   "source": [
    "def cal_sift(in_img):\n",
    "    sift = cv2.xfeatures2d.SIFT_create()\n",
    "    kp, des = sift.detectAndCompute(in_img, None)\n",
    "    return kp, des"
   ]
  },
  {
   "cell_type": "code",
   "execution_count": 6,
   "metadata": {
    "collapsed": false
   },
   "outputs": [],
   "source": [
    "def sift_sample(imgs, train_lbl, sample_num):\n",
    "    descriptors = np.array([])\n",
    "    samples = [0] * 10\n",
    "    \n",
    "    cur = 0\n",
    "    while (sum(samples) < sample_num):\n",
    "        if (samples[train_lbl[cur]] >= (sample_num/10)):\n",
    "            cur += 1\n",
    "            continue\n",
    "        samples[train_lbl[cur]] += 1\n",
    "        \n",
    "        kp, des = cal_sift(np.array(imgs[cur]))\n",
    "        if (des == None):\n",
    "            cur += 1\n",
    "            continue\n",
    "        if len(descriptors):\n",
    "            descriptors = np.append(descriptors, des, axis=0)\n",
    "        else:\n",
    "            descriptors = des\n",
    "        cur += 1\n",
    "        \n",
    "    return descriptors"
   ]
  },
  {
   "cell_type": "code",
   "execution_count": 7,
   "metadata": {
    "collapsed": false
   },
   "outputs": [
    {
     "name": "stdout",
     "output_type": "stream",
     "text": [
      "(70000, 128)\n"
     ]
    },
    {
     "name": "stderr",
     "output_type": "stream",
     "text": [
      "/usr/local/lib/python2.7/dist-packages/ipykernel/__main__.py:13: FutureWarning: comparison to `None` will result in an elementwise object comparison in the future.\n"
     ]
    }
   ],
   "source": [
    "cluster_num = 200\n",
    "sample_num = 10000\n",
    "iter_num = 300\n",
    "\n",
    "descriptors = sift_sample(train_img, train_lbl, sample_num)\n",
    "print descriptors.shape"
   ]
  },
  {
   "cell_type": "code",
   "execution_count": 8,
   "metadata": {
    "collapsed": true
   },
   "outputs": [],
   "source": [
    "def descriptor_cluster(descriptors, cluster_num, iter_nume):\n",
    "    cluster = KMeans(n_clusters=cluster_num, max_iter=iter_num).fit(descriptors)\n",
    "    return cluster"
   ]
  },
  {
   "cell_type": "code",
   "execution_count": 9,
   "metadata": {
    "collapsed": false
   },
   "outputs": [
    {
     "ename": "KeyboardInterrupt",
     "evalue": "",
     "output_type": "error",
     "traceback": [
      "\u001b[1;31m---------------------------------------------------------------------------\u001b[0m",
      "\u001b[1;31mKeyboardInterrupt\u001b[0m                         Traceback (most recent call last)",
      "\u001b[1;32m<ipython-input-9-4184c8b2c65a>\u001b[0m in \u001b[0;36m<module>\u001b[1;34m()\u001b[0m\n\u001b[1;32m----> 1\u001b[1;33m \u001b[0mcluster\u001b[0m \u001b[1;33m=\u001b[0m \u001b[0mdescriptor_cluster\u001b[0m\u001b[1;33m(\u001b[0m\u001b[0mdescriptors\u001b[0m\u001b[1;33m,\u001b[0m \u001b[0mcluster_num\u001b[0m\u001b[1;33m,\u001b[0m \u001b[0miter_num\u001b[0m\u001b[1;33m)\u001b[0m\u001b[1;33m\u001b[0m\u001b[0m\n\u001b[0m",
      "\u001b[1;32m<ipython-input-8-698488450501>\u001b[0m in \u001b[0;36mdescriptor_cluster\u001b[1;34m(descriptors, cluster_num, iter_nume)\u001b[0m\n\u001b[0;32m      1\u001b[0m \u001b[1;32mdef\u001b[0m \u001b[0mdescriptor_cluster\u001b[0m\u001b[1;33m(\u001b[0m\u001b[0mdescriptors\u001b[0m\u001b[1;33m,\u001b[0m \u001b[0mcluster_num\u001b[0m\u001b[1;33m,\u001b[0m \u001b[0miter_nume\u001b[0m\u001b[1;33m)\u001b[0m\u001b[1;33m:\u001b[0m\u001b[1;33m\u001b[0m\u001b[0m\n\u001b[1;32m----> 2\u001b[1;33m     \u001b[0mcluster\u001b[0m \u001b[1;33m=\u001b[0m \u001b[0mKMeans\u001b[0m\u001b[1;33m(\u001b[0m\u001b[0mn_clusters\u001b[0m\u001b[1;33m=\u001b[0m\u001b[0mcluster_num\u001b[0m\u001b[1;33m,\u001b[0m \u001b[0mmax_iter\u001b[0m\u001b[1;33m=\u001b[0m\u001b[0miter_num\u001b[0m\u001b[1;33m)\u001b[0m\u001b[1;33m.\u001b[0m\u001b[0mfit\u001b[0m\u001b[1;33m(\u001b[0m\u001b[0mdescriptors\u001b[0m\u001b[1;33m)\u001b[0m\u001b[1;33m\u001b[0m\u001b[0m\n\u001b[0m\u001b[0;32m      3\u001b[0m     \u001b[1;32mreturn\u001b[0m \u001b[0mcluster\u001b[0m\u001b[1;33m\u001b[0m\u001b[0m\n",
      "\u001b[1;32m/usr/local/lib/python2.7/dist-packages/sklearn/cluster/k_means_.pyc\u001b[0m in \u001b[0;36mfit\u001b[1;34m(self, X, y)\u001b[0m\n\u001b[0;32m    819\u001b[0m                 \u001b[0mprecompute_distances\u001b[0m\u001b[1;33m=\u001b[0m\u001b[0mself\u001b[0m\u001b[1;33m.\u001b[0m\u001b[0mprecompute_distances\u001b[0m\u001b[1;33m,\u001b[0m\u001b[1;33m\u001b[0m\u001b[0m\n\u001b[0;32m    820\u001b[0m                 \u001b[0mtol\u001b[0m\u001b[1;33m=\u001b[0m\u001b[0mself\u001b[0m\u001b[1;33m.\u001b[0m\u001b[0mtol\u001b[0m\u001b[1;33m,\u001b[0m \u001b[0mrandom_state\u001b[0m\u001b[1;33m=\u001b[0m\u001b[0mrandom_state\u001b[0m\u001b[1;33m,\u001b[0m \u001b[0mcopy_x\u001b[0m\u001b[1;33m=\u001b[0m\u001b[0mself\u001b[0m\u001b[1;33m.\u001b[0m\u001b[0mcopy_x\u001b[0m\u001b[1;33m,\u001b[0m\u001b[1;33m\u001b[0m\u001b[0m\n\u001b[1;32m--> 821\u001b[1;33m                 n_jobs=self.n_jobs)\n\u001b[0m\u001b[0;32m    822\u001b[0m         \u001b[1;32mreturn\u001b[0m \u001b[0mself\u001b[0m\u001b[1;33m\u001b[0m\u001b[0m\n\u001b[0;32m    823\u001b[0m \u001b[1;33m\u001b[0m\u001b[0m\n",
      "\u001b[1;32m/usr/local/lib/python2.7/dist-packages/sklearn/cluster/k_means_.pyc\u001b[0m in \u001b[0;36mk_means\u001b[1;34m(X, n_clusters, init, precompute_distances, n_init, max_iter, verbose, tol, random_state, copy_x, n_jobs, return_n_iter)\u001b[0m\n\u001b[0;32m    322\u001b[0m                 \u001b[0mX\u001b[0m\u001b[1;33m,\u001b[0m \u001b[0mn_clusters\u001b[0m\u001b[1;33m,\u001b[0m \u001b[0mmax_iter\u001b[0m\u001b[1;33m=\u001b[0m\u001b[0mmax_iter\u001b[0m\u001b[1;33m,\u001b[0m \u001b[0minit\u001b[0m\u001b[1;33m=\u001b[0m\u001b[0minit\u001b[0m\u001b[1;33m,\u001b[0m \u001b[0mverbose\u001b[0m\u001b[1;33m=\u001b[0m\u001b[0mverbose\u001b[0m\u001b[1;33m,\u001b[0m\u001b[1;33m\u001b[0m\u001b[0m\n\u001b[0;32m    323\u001b[0m                 \u001b[0mprecompute_distances\u001b[0m\u001b[1;33m=\u001b[0m\u001b[0mprecompute_distances\u001b[0m\u001b[1;33m,\u001b[0m \u001b[0mtol\u001b[0m\u001b[1;33m=\u001b[0m\u001b[0mtol\u001b[0m\u001b[1;33m,\u001b[0m\u001b[1;33m\u001b[0m\u001b[0m\n\u001b[1;32m--> 324\u001b[1;33m                 x_squared_norms=x_squared_norms, random_state=random_state)\n\u001b[0m\u001b[0;32m    325\u001b[0m             \u001b[1;31m# determine if these results are the best so far\u001b[0m\u001b[1;33m\u001b[0m\u001b[1;33m\u001b[0m\u001b[0m\n\u001b[0;32m    326\u001b[0m             \u001b[1;32mif\u001b[0m \u001b[0mbest_inertia\u001b[0m \u001b[1;32mis\u001b[0m \u001b[0mNone\u001b[0m \u001b[1;32mor\u001b[0m \u001b[0minertia\u001b[0m \u001b[1;33m<\u001b[0m \u001b[0mbest_inertia\u001b[0m\u001b[1;33m:\u001b[0m\u001b[1;33m\u001b[0m\u001b[0m\n",
      "\u001b[1;32m/usr/local/lib/python2.7/dist-packages/sklearn/cluster/k_means_.pyc\u001b[0m in \u001b[0;36m_kmeans_single\u001b[1;34m(X, n_clusters, x_squared_norms, max_iter, init, verbose, random_state, tol, precompute_distances)\u001b[0m\n\u001b[0;32m    445\u001b[0m             _labels_inertia(X, x_squared_norms, centers,\n\u001b[0;32m    446\u001b[0m                             \u001b[0mprecompute_distances\u001b[0m\u001b[1;33m=\u001b[0m\u001b[0mprecompute_distances\u001b[0m\u001b[1;33m,\u001b[0m\u001b[1;33m\u001b[0m\u001b[0m\n\u001b[1;32m--> 447\u001b[1;33m                             distances=distances)\n\u001b[0m\u001b[0;32m    448\u001b[0m \u001b[1;33m\u001b[0m\u001b[0m\n\u001b[0;32m    449\u001b[0m         \u001b[1;31m# computation of the means is also called the M-step of EM\u001b[0m\u001b[1;33m\u001b[0m\u001b[1;33m\u001b[0m\u001b[0m\n",
      "\u001b[1;32m/usr/local/lib/python2.7/dist-packages/sklearn/cluster/k_means_.pyc\u001b[0m in \u001b[0;36m_labels_inertia\u001b[1;34m(X, x_squared_norms, centers, precompute_distances, distances)\u001b[0m\n\u001b[0;32m    576\u001b[0m                                                     centers, distances)\n\u001b[0;32m    577\u001b[0m         inertia = _k_means._assign_labels_array(\n\u001b[1;32m--> 578\u001b[1;33m             X, x_squared_norms, centers, labels, distances=distances)\n\u001b[0m\u001b[0;32m    579\u001b[0m     \u001b[1;32mreturn\u001b[0m \u001b[0mlabels\u001b[0m\u001b[1;33m,\u001b[0m \u001b[0minertia\u001b[0m\u001b[1;33m\u001b[0m\u001b[0m\n\u001b[0;32m    580\u001b[0m \u001b[1;33m\u001b[0m\u001b[0m\n",
      "\u001b[1;31mKeyboardInterrupt\u001b[0m: "
     ]
    }
   ],
   "source": [
    "cluster = descriptor_cluster(descriptors, cluster_num, iter_num)"
   ]
  },
  {
   "cell_type": "code",
   "execution_count": null,
   "metadata": {
    "collapsed": true
   },
   "outputs": [],
   "source": [
    "def img_to_feature(img, cluster, cluster_num):\n",
    "    sift = cv2.xfeatures2d.SIFT_create()\n",
    "    feature_layer1 = [0.0] * cluster_num\n",
    "    feature_layer2 = [0.0] * cluster_num * 4\n",
    "    feature_layer3 = [0.0] * cluster_num * 16\n",
    "    \n",
    "    kp, des = cal_sift(img)\n",
    "    if des != None:\n",
    "        cluster_result = cluster.predict(des)\n",
    "        for c in cluster_result:\n",
    "            feature_layer1[c] += 0.5\n",
    "            \n",
    "    cur = 0\n",
    "    for i in range(2):\n",
    "        for j in range(2):\n",
    "            cur += 1\n",
    "            crop_img = img[i*14 : (i+1)*14 -1, j*14 : (j+1)*14 -1]\n",
    "            kp, des = cal_sift(crop_img)\n",
    "            if des != None:\n",
    "                cluster_result = cluster.predict(des)\n",
    "                for c in cluster_result:\n",
    "                    feature_layer2[(cur-1)*cluster_num + c] += 0.25\n",
    "                    \n",
    "    cur = 0\n",
    "    for i in range(4):\n",
    "        for j in range(4):\n",
    "            cur += 1\n",
    "            crop_img = img[i*7 : (i+1)*7 -1, j*7 : (j+1)*7 -1]\n",
    "            kp, des = cal_sift(crop_img)\n",
    "            if des != None:\n",
    "                cluster_result = cluster.predict(des)\n",
    "                for c in cluster_result:\n",
    "                    feature_layer3[(cur-1)*cluster_num + c] += 0.25\n",
    "    \n",
    "    feature = feature_layer1 + feature_layer2 + feature_layer3\n",
    "    return np.array(feature)"
   ]
  },
  {
   "cell_type": "code",
   "execution_count": null,
   "metadata": {
    "collapsed": true
   },
   "outputs": [],
   "source": [
    "def generate_features(imgs, cluster, cluster_num):\n",
    "    features = []\n",
    "    for img in imgs:\n",
    "        f = img_to_feature(img, cluster, cluster_num)\n",
    "        features.append(f)\n",
    "    return np.array(features)"
   ]
  },
  {
   "cell_type": "code",
   "execution_count": null,
   "metadata": {
    "collapsed": false
   },
   "outputs": [],
   "source": [
    "features_train = generate_features(train_img, cluster, cluster_num)"
   ]
  },
  {
   "cell_type": "code",
   "execution_count": null,
   "metadata": {
    "collapsed": false
   },
   "outputs": [],
   "source": [
    "features_test = generate_features(test_img, cluster, cluster_num)"
   ]
  },
  {
   "cell_type": "code",
   "execution_count": null,
   "metadata": {
    "collapsed": false
   },
   "outputs": [],
   "source": [
    "def train_and_test(features_train, features_test, lbl_train, lbl_test):    \n",
    "    clf = svm.LinearSVC()\n",
    "    clf.fit(features_train, lbl_train)\n",
    "    result = clf.predict(features_test)\n",
    "    error = sum([int(result[i] != test_lbl[i]) for i in range(len(result))])\n",
    "    print \"Accuracy: \", 1 - float(error)/len(result)\n",
    "    print confusion_matrix(result, test_lbl)\n",
    "    return clf"
   ]
  },
  {
   "cell_type": "code",
   "execution_count": null,
   "metadata": {
    "collapsed": false
   },
   "outputs": [],
   "source": [
    "train_and_test(features_train, features_test, train_lbl, test_lbl)"
   ]
  }
 ],
 "metadata": {
  "kernelspec": {
   "display_name": "Python 2",
   "language": "python",
   "name": "python2"
  },
  "language_info": {
   "codemirror_mode": {
    "name": "ipython",
    "version": 2
   },
   "file_extension": ".py",
   "mimetype": "text/x-python",
   "name": "python",
   "nbconvert_exporter": "python",
   "pygments_lexer": "ipython2",
   "version": "2.7.6"
  }
 },
 "nbformat": 4,
 "nbformat_minor": 0
}
