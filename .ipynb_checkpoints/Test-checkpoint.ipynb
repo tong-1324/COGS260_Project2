{
 "cells": [
  {
   "cell_type": "code",
   "execution_count": 1,
   "metadata": {
    "collapsed": false
   },
   "outputs": [],
   "source": [
    "import struct\n",
    "from math import log, exp\n",
    "from array import array\n",
    "import numpy as np\n",
    "import random\n",
    "\n",
    "def read(fname_img, fname_lbl, n):\n",
    "    f = open(fname_lbl, 'rb')\n",
    "    magic_nr, size = struct.unpack(\">II\", f.read(8))\n",
    "    lbl = array(\"b\", f.read())\n",
    "    f.close()\n",
    "\n",
    "    f = open(fname_img, 'rb')\n",
    "    magic_nr, size, rows, cols = struct.unpack(\">IIII\", f.read(16))\n",
    "    img = array(\"B\", f.read())\n",
    "    f.close()\n",
    "\n",
    "    tmp = [1]\n",
    "    img_matrix = []\n",
    "    for x in img.tolist():\n",
    "        tmp.append(x)\n",
    "        if len(tmp) == 785:\n",
    "            img_matrix.append(tmp)\n",
    "            tmp = [1]\n",
    "            if (len(img_matrix) == n):\n",
    "                break\n",
    "\n",
    "    return lbl.tolist()[:n], img_matrix\n",
    "\n",
    "\n",
    "train_size = 60000\n",
    "\n",
    "train_lbl, train_img = read(\"train-images-idx3-ubyte\", \"train-labels-idx1-ubyte\", 60000)\n",
    "test_lbl, test_img = read(\"t10k-images-idx3-ubyte\", \"t10k-labels-idx1-ubyte\", 20000)\n",
    "\n",
    "index_shuf = range(train_size)\n",
    "random.shuffle(index_shuf)\n",
    "x = []\n",
    "y = []\n",
    "for i in range(train_size):\n",
    "    x.append(train_img[i])\n",
    "    y.append(train_lbl[i])\n",
    "train_lbl, train_img = y, x"
   ]
  },
  {
   "cell_type": "code",
   "execution_count": 24,
   "metadata": {
    "collapsed": true
   },
   "outputs": [],
   "source": [
    "import numpy as np\n",
    "\n",
    "ite = []\n",
    "train_loss = []\n",
    "test_loss = []\n",
    "for l in open(\"result_train_test_loss.txt\"):\n",
    "    i, train, test = l.split(' ')\n",
    "    ite.append(int(i))\n",
    "    train_loss.append(float(train))\n",
    "    test_loss.append(float(test))\n",
    "\n",
    "ite = np.array(ite[2:])\n",
    "train_loss = np.array(train_loss[2:])\n",
    "test_loss = np.array(test_loss[2:])"
   ]
  },
  {
   "cell_type": "code",
   "execution_count": 26,
   "metadata": {
    "collapsed": false
   },
   "outputs": [],
   "source": [
    "from matplotlib import pyplot as plt\n",
    "import numpy as np\n",
    "\n",
    "with plt.style.context('fivethirtyeight'):\n",
    "    plt.plot(ite , train_loss)\n",
    "plt.show()\n",
    "\n",
    "with plt.style.context('fivethirtyeight'):\n",
    "    plt.plot(ite , test_loss)\n",
    "plt.show()"
   ]
  },
  {
   "cell_type": "code",
   "execution_count": null,
   "metadata": {
    "collapsed": true
   },
   "outputs": [],
   "source": []
  }
 ],
 "metadata": {
  "kernelspec": {
   "display_name": "Python 2",
   "language": "python",
   "name": "python2"
  },
  "language_info": {
   "codemirror_mode": {
    "name": "ipython",
    "version": 2
   },
   "file_extension": ".py",
   "mimetype": "text/x-python",
   "name": "python",
   "nbconvert_exporter": "python",
   "pygments_lexer": "ipython2",
   "version": "2.7.10"
  }
 },
 "nbformat": 4,
 "nbformat_minor": 0
}
