{
 "cells": [
  {
   "cell_type": "code",
   "execution_count": 93,
   "metadata": {
    "collapsed": true
   },
   "outputs": [],
   "source": [
    "from array import array\n",
    "import numpy as np\n",
    "import random\n",
    "import struct\n",
    "from sklearn.metrics import confusion_matrix\n",
    "import os\n",
    "import cv2\n",
    "from sklearn.cluster import KMeans\n",
    "from sklearn import svm\n",
    "from sklearn.ensemble import RandomForestClassifier\n",
    "import matplotlib.pyplot as plt\n",
    "import pickle"
   ]
  },
  {
   "cell_type": "code",
   "execution_count": 94,
   "metadata": {
    "collapsed": false
   },
   "outputs": [],
   "source": [
    "def read(fname_img, fname_lbl):\n",
    "    f = open(fname_lbl, 'rb')\n",
    "    magic_nr, size = struct.unpack(\">II\", f.read(8))\n",
    "    lbl = array(\"b\", f.read())\n",
    "    f.close()\n",
    "\n",
    "    f = open(fname_img, 'rb')\n",
    "    magic_nr, size, rows, cols = struct.unpack(\">IIII\", f.read(16))\n",
    "    img = array(\"B\", f.read())\n",
    "    f.close()\n",
    "\n",
    "    tmp = []\n",
    "    cur_img = []\n",
    "    img_matrix = []\n",
    "    for x in img.tolist():\n",
    "        tmp.append(x)\n",
    "        if len(tmp) == 28:\n",
    "            cur_img.append(tmp)\n",
    "            tmp = []\n",
    "        if len(cur_img) == 28:\n",
    "            img_matrix.append(cur_img)\n",
    "            cur_img = []\n",
    "\n",
    "    return lbl.tolist(), img_matrix"
   ]
  },
  {
   "cell_type": "code",
   "execution_count": 95,
   "metadata": {
    "collapsed": true
   },
   "outputs": [],
   "source": [
    "train_size = 60000\n",
    "\n",
    "train_lbl, train_img = read(\"train-images-idx3-ubyte\", \"train-labels-idx1-ubyte\")\n",
    "test_lbl, test_img = read(\"t10k-images-idx3-ubyte\", \"t10k-labels-idx1-ubyte\")\n",
    "\n",
    "index_shuf = range(train_size)\n",
    "random.shuffle(index_shuf)\n",
    "x = []\n",
    "y = []\n",
    "for i in range(train_size):\n",
    "    x.append(train_img[i])\n",
    "    y.append(train_lbl[i])\n",
    "train_lbl, train_img = y, x\n",
    "\n",
    "train_img = np.uint8(np.array(train_img))\n",
    "test_img = np.uint8(np.array(test_img))"
   ]
  },
  {
   "cell_type": "code",
   "execution_count": 96,
   "metadata": {
    "collapsed": true
   },
   "outputs": [],
   "source": [
    "def cal_sift(in_img):\n",
    "    sift = cv2.xfeatures2d.SIFT_create()\n",
    "    kp, des = sift.detectAndCompute(in_img, None)\n",
    "    return kp, des"
   ]
  },
  {
   "cell_type": "code",
   "execution_count": 97,
   "metadata": {
    "collapsed": false
   },
   "outputs": [],
   "source": [
    "def sift_sample(imgs, sample_num):\n",
    "    key_points = np.array([])\n",
    "    descriptors = np.array([])\n",
    "    index = []\n",
    "    for i in range(sample_num):\n",
    "        kp, des = cal_sift(np.array(imgs[i]))\n",
    "        if (des == None):\n",
    "            continue\n",
    "        if len(key_points):\n",
    "            key_points = np.append(key_points, kp)\n",
    "            descriptors = np.append(descriptors, des, axis=0)\n",
    "            index = index + [i] * len(kp)\n",
    "        else:\n",
    "            key_points = kp\n",
    "            descriptors = des\n",
    "            index = [i] * len(kp)\n",
    "        if (i+1) % 1000 == 0:\n",
    "            print i+1, \"sampled\"\n",
    "    return descriptors"
   ]
  },
  {
   "cell_type": "code",
   "execution_count": 98,
   "metadata": {
    "collapsed": true
   },
   "outputs": [],
   "source": [
    "def descriptor_cluster(descriptors, cluster_num, iter_nume):\n",
    "    cluster = KMeans(n_clusters=cluster_num, max_iter=iter_num).fit(descriptors)\n",
    "    return cluster"
   ]
  },
  {
   "cell_type": "code",
   "execution_count": 99,
   "metadata": {
    "collapsed": false
   },
   "outputs": [
    {
     "name": "stdout",
     "output_type": "stream",
     "text": [
      "1000 sampled\n",
      "2000 sampled\n",
      "3000 sampled\n",
      "4000 sampled\n",
      "5000 sampled\n",
      "(39319, 128)\n"
     ]
    },
    {
     "name": "stderr",
     "output_type": "stream",
     "text": [
      "/usr/local/lib/python2.7/dist-packages/ipykernel/__main__.py:7: FutureWarning: comparison to `None` will result in an elementwise object comparison in the future.\n"
     ]
    }
   ],
   "source": [
    "cluster_num = 50\n",
    "sample_num = 5000\n",
    "iter_num = 300\n",
    "\n",
    "descriptors = sift_sample(train_img, sample_num)\n",
    "print descriptors.shape\n",
    "cluster = descriptor_cluster(descriptors, cluster_num, iter_num)"
   ]
  },
  {
   "cell_type": "code",
   "execution_count": 100,
   "metadata": {
    "collapsed": true
   },
   "outputs": [],
   "source": [
    "def img_to_feature(img, cluster, cluster_num):\n",
    "    sift = cv2.xfeatures2d.SIFT_create()\n",
    "    feature_layer1 = [0.0] * cluster_num\n",
    "    feature_layer2 = [0.0] * cluster_num * 4\n",
    "    feature_layer3 = [0.0] * cluster_num * 16\n",
    "    \n",
    "    kp, des = cal_sift(img)\n",
    "    if des != None:\n",
    "        cluster_result = cluster.predict(des)\n",
    "        for c in cluster_result:\n",
    "            feature_layer1[c] += 0.5\n",
    "            \n",
    "    cur = 0\n",
    "    for i in range(2):\n",
    "        for j in range(2):\n",
    "            cur += 1\n",
    "            crop_img = img[i*14 : (i+1)*14 -1, j*14 : (j+1)*14 -1]\n",
    "            kp, des = cal_sift(crop_img)\n",
    "            if des != None:\n",
    "                cluster_result = cluster.predict(des)\n",
    "                for c in cluster_result:\n",
    "                    feature_layer2[(cur-1)*cluster_num + c] += 0.25\n",
    "                    \n",
    "    cur = 0\n",
    "    for i in range(4):\n",
    "        for j in range(4):\n",
    "            cur += 1\n",
    "            crop_img = img[i*7 : (i+1)*7 -1, j*7 : (j+1)*7 -1]\n",
    "            kp, des = cal_sift(crop_img)\n",
    "            if des != None:\n",
    "                cluster_result = cluster.predict(des)\n",
    "                for c in cluster_result:\n",
    "                    feature_layer3[(cur-1)*cluster_num + c] += 0.25\n",
    "    \n",
    "    feature = feature_layer1 + feature_layer2 + feature_layer3\n",
    "    return np.array(feature)"
   ]
  },
  {
   "cell_type": "code",
   "execution_count": 101,
   "metadata": {
    "collapsed": true
   },
   "outputs": [],
   "source": [
    "def generate_features(imgs, cluster, cluster_num):\n",
    "    features = []\n",
    "    for img in imgs:\n",
    "        f = img_to_feature(img, cluster, cluster_num)\n",
    "        features.append(f)\n",
    "    return np.array(features)"
   ]
  },
  {
   "cell_type": "code",
   "execution_count": 102,
   "metadata": {
    "collapsed": false
   },
   "outputs": [
    {
     "name": "stderr",
     "output_type": "stream",
     "text": [
      "/usr/local/lib/python2.7/dist-packages/ipykernel/__main__.py:8: FutureWarning: comparison to `None` will result in an elementwise object comparison in the future.\n",
      "/usr/local/lib/python2.7/dist-packages/ipykernel/__main__.py:19: FutureWarning: comparison to `None` will result in an elementwise object comparison in the future.\n",
      "/usr/local/lib/python2.7/dist-packages/ipykernel/__main__.py:30: FutureWarning: comparison to `None` will result in an elementwise object comparison in the future.\n"
     ]
    }
   ],
   "source": [
    "features_train = generate_features(train_img, cluster, cluster_num)"
   ]
  },
  {
   "cell_type": "code",
   "execution_count": 103,
   "metadata": {
    "collapsed": false
   },
   "outputs": [
    {
     "name": "stderr",
     "output_type": "stream",
     "text": [
      "/usr/local/lib/python2.7/dist-packages/ipykernel/__main__.py:8: FutureWarning: comparison to `None` will result in an elementwise object comparison in the future.\n",
      "/usr/local/lib/python2.7/dist-packages/ipykernel/__main__.py:19: FutureWarning: comparison to `None` will result in an elementwise object comparison in the future.\n",
      "/usr/local/lib/python2.7/dist-packages/ipykernel/__main__.py:30: FutureWarning: comparison to `None` will result in an elementwise object comparison in the future.\n"
     ]
    }
   ],
   "source": [
    "features_test = generate_features(test_img, cluster, cluster_num)"
   ]
  },
  {
   "cell_type": "code",
   "execution_count": 115,
   "metadata": {
    "collapsed": false
   },
   "outputs": [],
   "source": [
    "def train_and_test(features_train, features_test, lbl_train, lbl_test):\n",
    "    row_sums = features_train.sum(axis=1, dtype=np.float64)\n",
    "    for i in range(len(row_sums)):\n",
    "        if (row_sums[i] == 0):\n",
    "            row_sums[i] = 1\n",
    "    features_train = features_train / row_sums[:, np.newaxis]\n",
    "    \n",
    "    row_sums = features_test.sum(axis=1, dtype=np.float64)\n",
    "    for i in range(len(row_sums)):\n",
    "        if (row_sums[i] == 0):\n",
    "            row_sums[i] = 1\n",
    "    features_test = features_test / row_sums[:, np.newaxis]\n",
    "    \n",
    "    clf = svm.LinearSVC()\n",
    "    clf.fit(features_train, lbl_train)\n",
    "    result = clf.predict(features_test)\n",
    "    error = sum([int(result[i] != test_lbl[i]) for i in range(len(result))])\n",
    "    print \"Accuracy: \", 1 - float(error)/len(result)\n",
    "    print confusion_matrix(result, test_lbl)\n",
    "    return clf"
   ]
  },
  {
   "cell_type": "code",
   "execution_count": 116,
   "metadata": {
    "collapsed": false
   },
   "outputs": [
    {
     "name": "stdout",
     "output_type": "stream",
     "text": [
      "Accuracy:  0.7678\n",
      "[[ 889    3   55   16    9   59   72   21   24   34]\n",
      " [   5 1106   22    4   19   14   22   64    4   13]\n",
      " [   5    5  712   25   35   16   18   47   23   10]\n",
      " [   6    1   51  779   15   78   32   23   35   17]\n",
      " [   2    6   35   23  742   33   46   39   30   58]\n",
      " [  16    1   23   71   14  586   58   18   21   26]\n",
      " [  24    1   21   23   21   54  579   15   32   36]\n",
      " [   8    6   79   41   20   16   30  777    7   28]\n",
      " [  16    0   23   14   26   13   27   11  759   38]\n",
      " [   9    6   11   14   81   23   74   13   39  749]]\n"
     ]
    },
    {
     "data": {
      "text/plain": [
       "LinearSVC(C=1.0, class_weight=None, dual=True, fit_intercept=True,\n",
       "     intercept_scaling=1, loss='squared_hinge', max_iter=1000,\n",
       "     multi_class='ovr', penalty='l2', random_state=None, tol=0.0001,\n",
       "     verbose=0)"
      ]
     },
     "execution_count": 116,
     "metadata": {},
     "output_type": "execute_result"
    }
   ],
   "source": [
    "train_and_test(features_train, features_test, train_lbl, test_lbl)"
   ]
  },
  {
   "cell_type": "code",
   "execution_count": null,
   "metadata": {
    "collapsed": true
   },
   "outputs": [],
   "source": []
  }
 ],
 "metadata": {
  "kernelspec": {
   "display_name": "Python 2",
   "language": "python",
   "name": "python2"
  },
  "language_info": {
   "codemirror_mode": {
    "name": "ipython",
    "version": 2
   },
   "file_extension": ".py",
   "mimetype": "text/x-python",
   "name": "python",
   "nbconvert_exporter": "python",
   "pygments_lexer": "ipython2",
   "version": "2.7.6"
  }
 },
 "nbformat": 4,
 "nbformat_minor": 0
}
