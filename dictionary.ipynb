{
 "cells": [
  {
   "cell_type": "code",
   "execution_count": 1,
   "metadata": {
    "collapsed": true
   },
   "outputs": [],
   "source": [
    "from array import array\n",
    "import numpy as np\n",
    "import random\n",
    "import struct\n",
    "from sklearn.metrics import confusion_matrix\n",
    "import os\n",
    "import cv2\n",
    "from sklearn.cluster import KMeans\n",
    "from sklearn import svm\n",
    "from sklearn.ensemble import RandomForestClassifier\n",
    "import matplotlib.pyplot as plt\n",
    "import pickle"
   ]
  },
  {
   "cell_type": "code",
   "execution_count": 2,
   "metadata": {
    "collapsed": false
   },
   "outputs": [],
   "source": [
    "def read(fname_img, fname_lbl):\n",
    "    f = open(fname_lbl, 'rb')\n",
    "    magic_nr, size = struct.unpack(\">II\", f.read(8))\n",
    "    lbl = array(\"b\", f.read())\n",
    "    f.close()\n",
    "\n",
    "    f = open(fname_img, 'rb')\n",
    "    magic_nr, size, rows, cols = struct.unpack(\">IIII\", f.read(16))\n",
    "    img = array(\"B\", f.read())\n",
    "    f.close()\n",
    "\n",
    "    tmp = []\n",
    "    cur_img = []\n",
    "    img_matrix = []\n",
    "    for x in img.tolist():\n",
    "        tmp.append(x)\n",
    "        if len(tmp) == 28:\n",
    "            cur_img.append(tmp)\n",
    "            tmp = []\n",
    "        if len(cur_img) == 28:\n",
    "            img_matrix.append(cur_img)\n",
    "            cur_img = []\n",
    "\n",
    "    return lbl.tolist(), img_matrix"
   ]
  },
  {
   "cell_type": "code",
   "execution_count": 20,
   "metadata": {
    "collapsed": true
   },
   "outputs": [],
   "source": [
    "def cal_sift(in_img):\n",
    "    sift = cv2.xfeatures2d.SIFT_create()\n",
    "    kp, des = sift.detectAndCompute(in_img, None)\n",
    "    return kp, des"
   ]
  },
  {
   "cell_type": "code",
   "execution_count": 30,
   "metadata": {
    "collapsed": false
   },
   "outputs": [
    {
     "name": "stdout",
     "output_type": "stream",
     "text": [
      "\n"
     ]
    }
   ],
   "source": [
    "def sift_sample(imgs, sample_num):\n",
    "    key_points = np.array([])\n",
    "    descriptors = np.array([])\n",
    "    index = []\n",
    "    for i in range(sample_num):\n",
    "        kp, des = cal_sift(np.array(imgs[i]))\n",
    "        if (des == None):\n",
    "            continue\n",
    "        if len(key_points):\n",
    "            key_points = np.append(key_points, kp)\n",
    "            descriptors = np.append(descriptors, des, axis=0)\n",
    "            index = index + [i] * len(kp)\n",
    "        else:\n",
    "            key_points = kp\n",
    "            descriptors = des\n",
    "            index = [i] * len(kp)\n",
    "        if (i+1) % 100 == 0:\n",
    "            print i+1, \"sampled\"\n",
    "    return descriptors"
   ]
  },
  {
   "cell_type": "code",
   "execution_count": 5,
   "metadata": {
    "collapsed": true
   },
   "outputs": [],
   "source": [
    "def descriptor_cluster(descriptors, cluster_num, iter_nume):\n",
    "    cluster = KMeans(n_clusters=cluster_num, max_iter=iter_num).fit(descriptors)\n",
    "    return cluster"
   ]
  },
  {
   "cell_type": "code",
   "execution_count": 34,
   "metadata": {
    "collapsed": true
   },
   "outputs": [],
   "source": [
    "def img_to_feature(img, cluster, cluster_num):\n",
    "    sift = cv2.xfeatures2d.SIFT_create()\n",
    "    feature = [0] * cluster_num\n",
    "    kp, des = cal_sift(img)\n",
    "    if des == None:\n",
    "        return np.array(feature)\n",
    "    cluster_result = cluster.predict(des)\n",
    "    for c in cluster_result:\n",
    "        feature[c] += 1\n",
    "    return np.array(feature)"
   ]
  },
  {
   "cell_type": "code",
   "execution_count": 7,
   "metadata": {
    "collapsed": true
   },
   "outputs": [],
   "source": [
    "def generate_features(imgs, cluster, cluster_num):\n",
    "    features = []\n",
    "    for img in imgs:\n",
    "        f = img_to_feature(img, cluster, cluster_num)\n",
    "        features.append(f)\n",
    "    return np.array(features)"
   ]
  },
  {
   "cell_type": "code",
   "execution_count": 46,
   "metadata": {
    "collapsed": true
   },
   "outputs": [],
   "source": [
    "def train_and_test(features_train, features_test, lbl_train, lbl_test):\n",
    "    clf = RandomForestClassifier(n_estimators=100, max_depth=20)\n",
    "    clf.fit(features_train, lbl_train)\n",
    "    result = clf.predict(features_test)\n",
    "    error = sum([int(result[i] != test_lbl[i]) for i in range(len(result))])\n",
    "    print \"Accuracy: \", 1 - float(error)/len(result)\n",
    "    print confusion_matrix(result, test_lbl)\n",
    "    return clf"
   ]
  },
  {
   "cell_type": "code",
   "execution_count": 9,
   "metadata": {
    "collapsed": true
   },
   "outputs": [],
   "source": [
    "train_size = 60000\n",
    "\n",
    "train_lbl, train_img = read(\"train-images-idx3-ubyte\", \"train-labels-idx1-ubyte\")\n",
    "test_lbl, test_img = read(\"t10k-images-idx3-ubyte\", \"t10k-labels-idx1-ubyte\")\n",
    "\n",
    "index_shuf = range(train_size)\n",
    "random.shuffle(index_shuf)\n",
    "x = []\n",
    "y = []\n",
    "for i in range(train_size):\n",
    "    x.append(train_img[i])\n",
    "    y.append(train_lbl[i])\n",
    "train_lbl, train_img = y, x"
   ]
  },
  {
   "cell_type": "code",
   "execution_count": 32,
   "metadata": {
    "collapsed": false
   },
   "outputs": [
    {
     "name": "stdout",
     "output_type": "stream",
     "text": [
      "100 sampled\n",
      "200 sampled\n",
      "300 sampled\n",
      "400 sampled\n",
      "500 sampled\n",
      "600 sampled\n",
      "700 sampled\n",
      "800 sampled\n",
      "900 sampled\n",
      "1000 sampled\n",
      "1100 sampled\n",
      "1200 sampled\n",
      "1300 sampled\n",
      "1400 sampled\n",
      "1500 sampled\n",
      "1600 sampled\n",
      "1700 sampled\n",
      "1800 sampled\n",
      "1900 sampled\n",
      "2000 sampled\n",
      "2100 sampled\n",
      "2200 sampled\n",
      "2300 sampled\n",
      "2400 sampled\n",
      "2500 sampled\n",
      "2600 sampled\n",
      "2700 sampled\n",
      "2800 sampled\n",
      "2900 sampled\n",
      "3000 sampled\n",
      "3100 sampled\n",
      "3200 sampled\n",
      "3300 sampled\n",
      "3400 sampled\n",
      "3500 sampled\n",
      "3600 sampled\n",
      "3700 sampled\n",
      "3800 sampled\n",
      "3900 sampled\n",
      "4000 sampled\n",
      "4100 sampled\n",
      "4200 sampled\n",
      "4300 sampled\n",
      "4400 sampled\n",
      "4500 sampled\n",
      "4600 sampled\n",
      "4700 sampled\n",
      "4800 sampled\n",
      "4900 sampled\n",
      "5000 sampled\n",
      "5100 sampled\n",
      "5200 sampled\n",
      "5300 sampled\n",
      "5400 sampled\n",
      "5500 sampled\n",
      "5600 sampled\n",
      "5700 sampled\n",
      "5800 sampled\n",
      "5900 sampled\n",
      "6000 sampled\n",
      "6100 sampled\n",
      "6200 sampled\n",
      "6300 sampled\n",
      "6400 sampled\n",
      "6500 sampled\n",
      "6600 sampled\n",
      "6700 sampled\n",
      "6800 sampled\n",
      "6900 sampled\n",
      "7000 sampled\n",
      "7100 sampled\n",
      "7200 sampled\n",
      "7300 sampled\n",
      "7400 sampled\n",
      "7500 sampled\n",
      "7600 sampled\n",
      "7700 sampled\n",
      "7800 sampled\n",
      "7900 sampled\n",
      "8000 sampled\n",
      "8100 sampled\n",
      "8200 sampled\n",
      "8300 sampled\n",
      "8400 sampled\n",
      "8500 sampled\n",
      "8600 sampled\n",
      "8700 sampled\n",
      "8800 sampled\n",
      "8900 sampled\n",
      "9000 sampled\n",
      "9100 sampled\n",
      "9200 sampled\n",
      "9300 sampled\n",
      "9400 sampled\n",
      "9500 sampled\n",
      "9600 sampled\n",
      "9700 sampled\n",
      "9800 sampled\n",
      "9900 sampled\n",
      "10000 sampled\n",
      "(77578, 128)\n"
     ]
    },
    {
     "name": "stderr",
     "output_type": "stream",
     "text": [
      "/usr/local/lib/python2.7/dist-packages/ipykernel/__main__.py:7: FutureWarning: comparison to `None` will result in an elementwise object comparison in the future.\n"
     ]
    }
   ],
   "source": [
    "cluster_num = 200\n",
    "sample_num = 10000\n",
    "iter_num = 300\n",
    "\n",
    "train_img = np.uint8(np.array(train_img))\n",
    "descriptors = sift_sample(train_img, sample_num)\n",
    "print descriptors.shape\n",
    "cluster = descriptor_cluster(descriptors, cluster_num, iter_num)"
   ]
  },
  {
   "cell_type": "code",
   "execution_count": 36,
   "metadata": {
    "collapsed": false
   },
   "outputs": [
    {
     "name": "stderr",
     "output_type": "stream",
     "text": [
      "/usr/local/lib/python2.7/dist-packages/ipykernel/__main__.py:5: FutureWarning: comparison to `None` will result in an elementwise object comparison in the future.\n"
     ]
    }
   ],
   "source": [
    "features_train = generate_features(train_img, cluster, cluster_num)"
   ]
  },
  {
   "cell_type": "code",
   "execution_count": 37,
   "metadata": {
    "collapsed": false
   },
   "outputs": [
    {
     "name": "stderr",
     "output_type": "stream",
     "text": [
      "/usr/local/lib/python2.7/dist-packages/ipykernel/__main__.py:5: FutureWarning: comparison to `None` will result in an elementwise object comparison in the future.\n"
     ]
    }
   ],
   "source": [
    "test_img = np.uint8(np.array(test_img))\n",
    "features_test = generate_features(test_img, cluster, cluster_num)"
   ]
  },
  {
   "cell_type": "code",
   "execution_count": 47,
   "metadata": {
    "collapsed": false
   },
   "outputs": [
    {
     "name": "stdout",
     "output_type": "stream",
     "text": [
      "Accuracy:  0.7107\n",
      "[[844   1  50  14   6  66  78  20  16  30]\n",
      " [  9 940  40   8  22  42  84 141  17  29]\n",
      " [  5   4 627  50  27  25  19  84  19  10]\n",
      " [  4   1  21 765   7  14   3   9  27   6]\n",
      " [  2   1  13  21 768  17   2  18  25  28]\n",
      " [  2   0   5  61  11 485  33   3  10  25]\n",
      " [ 85 183 102  52  47 136 522  98  64  71]\n",
      " [ 13   3 144  23  27  56  39 622   6   9]\n",
      " [  4   1  17  11  23  12  11  11 747  14]\n",
      " [ 12   1  13   5  44  39 167  22  43 787]]\n"
     ]
    },
    {
     "data": {
      "text/plain": [
       "RandomForestClassifier(bootstrap=True, class_weight=None, criterion='gini',\n",
       "            max_depth=20, max_features='auto', max_leaf_nodes=None,\n",
       "            min_samples_leaf=1, min_samples_split=2,\n",
       "            min_weight_fraction_leaf=0.0, n_estimators=100, n_jobs=1,\n",
       "            oob_score=False, random_state=None, verbose=0,\n",
       "            warm_start=False)"
      ]
     },
     "execution_count": 47,
     "metadata": {},
     "output_type": "execute_result"
    }
   ],
   "source": [
    "train_and_test(features_train, features_test, train_lbl, test_lbl)"
   ]
  },
  {
   "cell_type": "code",
   "execution_count": null,
   "metadata": {
    "collapsed": true
   },
   "outputs": [],
   "source": []
  }
 ],
 "metadata": {
  "kernelspec": {
   "display_name": "Python 2",
   "language": "python",
   "name": "python2"
  },
  "language_info": {
   "codemirror_mode": {
    "name": "ipython",
    "version": 2
   },
   "file_extension": ".py",
   "mimetype": "text/x-python",
   "name": "python",
   "nbconvert_exporter": "python",
   "pygments_lexer": "ipython2",
   "version": "2.7.6"
  }
 },
 "nbformat": 4,
 "nbformat_minor": 0
}
